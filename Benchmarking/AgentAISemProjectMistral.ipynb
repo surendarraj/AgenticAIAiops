{
  "nbformat": 4,
  "nbformat_minor": 0,
  "metadata": {
    "colab": {
      "provenance": [],
      "gpuType": "T4"
    },
    "kernelspec": {
      "name": "python3",
      "display_name": "Python 3"
    },
    "language_info": {
      "name": "python"
    }
  },
  "cells": [
    {
      "cell_type": "code",
      "execution_count": 15,
      "metadata": {
        "id": "UTBisLU9edPH"
      },
      "outputs": [],
      "source": [
        "# !pip install --force-reinstall --no-cache-dir \\\n",
        "#     numpy==2.0.0 \\\n",
        "#     pandas==2.2.2 \\\n",
        "#     scipy==1.11.4 \\\n",
        "#     scikit-learn==1.5.0 \\\n",
        "#     tsfresh==0.21.0 \\\n",
        "#     umap-learn==0.5.5 \\\n",
        "#     opencv-python-headless==4.12.0.88 \\\n",
        "#     --quiet\n"
      ]
    },
    {
      "cell_type": "markdown",
      "source": [
        "# New section"
      ],
      "metadata": {
        "id": "Q5FdTMxNmNpG"
      }
    },
    {
      "cell_type": "code",
      "source": [
        "#!pip uninstall -y huggingface_hub --quiet\n",
        "#!pip install --upgrade huggingface_hub --quiet"
      ],
      "metadata": {
        "id": "OLD02BCrntHv"
      },
      "execution_count": 16,
      "outputs": []
    },
    {
      "cell_type": "code",
      "source": [
        "import os\n",
        "from huggingface_hub import InferenceClient\n",
        "from google.colab import userdata\n",
        "\n",
        "\n",
        "os.environ[\"HUGGINGFACEHUB_API_TOKEN\"] = userdata.get('HUGGINGFACEHUB_API_TOKEN')\n",
        "\n",
        "client = InferenceClient(\n",
        "    model=\"meta-llama/Meta-Llama-3-8B-Instruct\",\n",
        "    token=userdata.get('HUGGINGFACEHUB_API_TOKEN')\n",
        "\n",
        ")"
      ],
      "metadata": {
        "id": "uBepjlK6fjLx"
      },
      "execution_count": 17,
      "outputs": []
    },
    {
      "cell_type": "code",
      "source": [
        "import pandas as pd\n",
        "import numpy as np\n",
        "from sklearn.ensemble import IsolationForest\n",
        "\n",
        "def generate_metrics():\n",
        "    df = pd.DataFrame({\n",
        "        \"cpu\": np.random.normal(50, 10, 100),\n",
        "        \"memory\": np.random.normal(60, 15, 100),\n",
        "        \"disk_io\": np.random.normal(100, 25, 100),\n",
        "    })\n",
        "    df.iloc[95:100] += np.random.uniform(100, 200)\n",
        "    return df\n",
        "\n",
        "def detect_anomalies(df):\n",
        "    model = IsolationForest(contamination=0.05, random_state=42)\n",
        "    model.fit(df)\n",
        "    df[\"anomaly\"] = model.predict(df)\n",
        "    return df[df[\"anomaly\"] == -1]\n"
      ],
      "metadata": {
        "id": "sC4RXJedf8UL"
      },
      "execution_count": 18,
      "outputs": []
    },
    {
      "cell_type": "code",
      "source": [
        "def build_messages(anomalies_df):\n",
        "    return [\n",
        "        {\"role\": \"system\", \"content\": \"You are an expert AIOps assistant.\"},\n",
        "        {\"role\": \"user\", \"content\": f\"\"\"These are the system anomalies detected using Isolation Forest:\n",
        "\n",
        "{anomalies_df.to_string(index=False)}\n",
        "\n",
        "Please explain:\n",
        "1. Likely root cause\n",
        "2. Possible impact\n",
        "3. Recommended fix\n",
        "\"\"\"}\n",
        "    ]\n"
      ],
      "metadata": {
        "id": "HOajawbsmdHO"
      },
      "execution_count": 19,
      "outputs": []
    },
    {
      "cell_type": "code",
      "source": [
        "import time\n",
        "\n",
        "def evaluate_response(response_text, start_time):\n",
        "    duration = round(time.time() - start_time, 2)\n",
        "    words = len(response_text.split())\n",
        "\n",
        "    keywords = [\"cpu\", \"memory\", \"disk\", \"fix\", \"restart\", \"resource\", \"usage\"]\n",
        "    relevance_hits = sum(kw in response_text.lower() for kw in keywords)\n",
        "    relevance_score = round(relevance_hits / len(keywords), 2)\n",
        "\n",
        "    return {\n",
        "        \"latency_seconds\": duration,\n",
        "        \"word_count\": words,\n",
        "        \"relevance_score\": relevance_score,\n",
        "    }\n"
      ],
      "metadata": {
        "id": "-qktQ4X1nkps"
      },
      "execution_count": 20,
      "outputs": []
    },
    {
      "cell_type": "code",
      "source": [
        "df = generate_metrics()\n",
        "anomalies = detect_anomalies(df)\n",
        "\n",
        "if anomalies.empty:\n",
        "    print(\"✅ No anomalies detected.\")\n",
        "else:\n",
        "    print(\"🚨 Anomalies found. Sending to Mixtral...\\n\")\n",
        "    messages = build_messages(anomalies)\n",
        "\n",
        "    start = time.time()\n",
        "    response = client.chat_completion(messages=messages)\n",
        "    reply = response.choices[0].message.content\n",
        "\n",
        "    print(\"🧠 Mixtral Response:\\n\", reply)\n",
        "\n",
        "    metrics = evaluate_response(reply, start)\n",
        "    print(\"\\n📊 Evaluation Metrics:\")\n",
        "    for k, v in metrics.items():\n",
        "        print(f\" - {k}: {v}\")\n"
      ],
      "metadata": {
        "colab": {
          "base_uri": "https://localhost:8080/"
        },
        "id": "epCZbSC2oVP0",
        "outputId": "416ff5c7-af78-4455-e803-83572b29c962"
      },
      "execution_count": 21,
      "outputs": [
        {
          "output_type": "stream",
          "name": "stdout",
          "text": [
            "🚨 Anomalies found. Sending to Mixtral...\n",
            "\n",
            "🧠 Mixtral Response:\n",
            " Based on the system anomalies detected using Isolation Forest, I'll provide my analysis.\n",
            "\n",
            "**1. Likely root cause:**\n",
            "\n",
            "The anomalies detected across multiple metrics (cpu, memory, disk_io) suggest a resource-intensive process or a high load on the system. The metrics are not extremely high, but they are consistently above the normal range, indicating a potential bottleneck.\n",
            "\n",
            "A likely root cause could be:\n",
            "\n",
            "- **High CPU usage due to a resource-hungry process:** A process or a set of processes might be consuming excessive CPU resources, causing the system to slow down and impacting other applications.\n",
            "- **Memory-intensive application:** An application or a service might be consuming a significant amount of memory, leading to high memory usage and potentially causing the system to swap to disk, thus affecting performance.\n",
            "- **Disk I/O issues:** High disk I/O could be caused by a disk failure, a faulty disk controller, or a disk being overwhelmed by I/O requests, leading to performance degradation.\n",
            "\n",
            "**2. Possible impact:**\n",
            "\n",
            "The impact of these anomalies could be:\n",
            "\n",
            "- **Performance degradation:** The system might become slow, unresponsive, or even crash under heavy loads.\n",
            "- **Application downtime:** Critical applications or services might experience downtime or errors due to the resource constraints.\n",
            "- **Increased latency:** Users might experience slow response times, and applications might take longer to complete tasks.\n",
            "\n",
            "**3. Recommended fix:**\n",
            "\n",
            "To address these anomalies, I recommend the following:\n",
            "\n",
            "- **Identify and optimize resource-intensive processes:** Use tools like `top`, `htop`, or `systemd-cgtop` to identify the processes consuming excessive CPU resources. Optimize or terminate these processes if possible.\n",
            "- **Monitor memory usage:** Use tools like `free`, `top`, or `memory_usage` to identify memory-intensive applications. Consider optimizing these applications or adjusting their resource allocation.\n",
            "- **Check disk health:** Run disk health checks using tools like `smartctl`, `badblocks`, or `chkdsk` to identify potential disk issues. Consider replacing faulty disks or optimizing disk usage.\n",
            "- **Implement resource monitoring and alerting:** Set up monitoring tools like Prometheus, Grafana, or New Relic to detect anomalies and alert theOps team. This will help identify issues before they become critical.\n",
            "- **Implement resource allocation and quota management:** Consider implementing resource allocation and quota management to ensure that resources are allocated efficiently and prevent resource-intensive processes from consuming excessive resources.\n",
            "\n",
            "By addressing these potential root causes and implementing these recommendations, you can mitigate the impact of these anomalies and ensure a more stable and performant system.\n",
            "\n",
            "📊 Evaluation Metrics:\n",
            " - latency_seconds: 7.48\n",
            " - word_count: 393\n",
            " - relevance_score: 0.86\n"
          ]
        }
      ]
    },
    {
      "cell_type": "code",
      "source": [],
      "metadata": {
        "id": "taBt7wxtoZJA"
      },
      "execution_count": 21,
      "outputs": []
    }
  ]
}